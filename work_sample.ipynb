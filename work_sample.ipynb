{
 "cells": [
  {
   "cell_type": "markdown",
   "metadata": {},
   "source": [
    "# Imports"
   ]
  },
  {
   "cell_type": "code",
   "execution_count": 1,
   "metadata": {},
   "outputs": [
    {
     "name": "stderr",
     "output_type": "stream",
     "text": [
      "[nltk_data] Downloading package punkt to\n",
      "[nltk_data]     /Users/mahamfaisalkhan/nltk_data...\n",
      "[nltk_data]   Package punkt is already up-to-date!\n"
     ]
    }
   ],
   "source": [
    "import pandas as pd\n",
    "from collections import Counter\n",
    "from sklearn.linear_model import LogisticRegression, LogisticRegressionCV\n",
    "from sklearn.model_selection import RepeatedStratifiedKFold\n",
    "from numpy import mean\n",
    "from numpy import std\n",
    "from nltk import word_tokenize          \n",
    "from sklearn.metrics import accuracy_score\n",
    "from nltk.stem import WordNetLemmatizer\n",
    "from sklearn.feature_extraction.text import TfidfVectorizer, CountVectorizer\n",
    "import nltk\n",
    "import matplotlib.pyplot as plt\n",
    "import seaborn as sns\n",
    "nltk.download('punkt')\n",
    "from nltk.corpus import stopwords\n",
    "stop_words = set(stopwords.words('english')) \n",
    "from sklearn import preprocessing\n",
    "from sklearn.model_selection import train_test_split\n",
    "from sklearn.model_selection import KFold\n",
    "from sklearn.model_selection import cross_val_score\n",
    "from sklearn.linear_model import LogisticRegression"
   ]
  },
  {
   "cell_type": "code",
   "execution_count": 2,
   "metadata": {},
   "outputs": [],
   "source": [
    "# reading_dataset\n",
    "df = pd.read_csv('eeconscia_ws_austin_dataset.csv')"
   ]
  },
  {
   "cell_type": "markdown",
   "metadata": {},
   "source": [
    "Emission = Activity x Emission Factor"
   ]
  },
  {
   "cell_type": "markdown",
   "metadata": {},
   "source": [
    "# Defining functions"
   ]
  },
  {
   "cell_type": "code",
   "execution_count": 3,
   "metadata": {},
   "outputs": [],
   "source": [
    "# Defining a function to remove punctuation, lemmatize using wordnet lemmas \n",
    "\n",
    "class LemmaTokenizer:\n",
    "    ignore_tokens = [',', '.', ';', ':', '\"', '``', \"''\",\"''\", '`', '(', ')','#','@','$','^','!','%','*','&','/','-']\n",
    "    wordlist = list(set(ignore_tokens).union(stop_words))\n",
    "    def __init__(self):\n",
    "        self.wnl = WordNetLemmatizer()\n",
    "    def __call__(self, doc):\n",
    "        return [self.wnl.lemmatize(t) for t in word_tokenize(doc) if t not in self.wordlist]"
   ]
  },
  {
   "cell_type": "markdown",
   "metadata": {},
   "source": [
    "# Exploration and Visualization"
   ]
  },
  {
   "cell_type": "code",
   "execution_count": 4,
   "metadata": {},
   "outputs": [
    {
     "data": {
      "text/html": [
       "<div>\n",
       "<style scoped>\n",
       "    .dataframe tbody tr th:only-of-type {\n",
       "        vertical-align: middle;\n",
       "    }\n",
       "\n",
       "    .dataframe tbody tr th {\n",
       "        vertical-align: top;\n",
       "    }\n",
       "\n",
       "    .dataframe thead th {\n",
       "        text-align: right;\n",
       "    }\n",
       "</style>\n",
       "<table border=\"1\" class=\"dataframe\">\n",
       "  <thead>\n",
       "    <tr style=\"text-align: right;\">\n",
       "      <th></th>\n",
       "      <th>PO_NUMBER</th>\n",
       "      <th>CONTRACT_NAME</th>\n",
       "      <th>EXTENDED_DESCRIPTION</th>\n",
       "      <th>COMMODITY_CODE</th>\n",
       "      <th>COMMODITY_DESCRIPTION</th>\n",
       "      <th>QUANTITY</th>\n",
       "      <th>UNIT_OF_MEASURE</th>\n",
       "      <th>UNIT_OF_MEAS_DESC</th>\n",
       "      <th>UNIT_PRICE</th>\n",
       "      <th>TOTAL_PRICE</th>\n",
       "      <th>VENDOR_NAME</th>\n",
       "      <th>VENDOR_CITY</th>\n",
       "      <th>VENDOR_COUNTRY</th>\n",
       "      <th>LINKEDIN_INDUSTRY</th>\n",
       "    </tr>\n",
       "  </thead>\n",
       "  <tbody>\n",
       "    <tr>\n",
       "      <th>0</th>\n",
       "      <td>DOM1100MAX43377</td>\n",
       "      <td>Critical materials Supply Arrangement</td>\n",
       "      <td>TRANSFORMER, DISTRIBUTION, SINGLE PHASE, POLE ...</td>\n",
       "      <td>28586</td>\n",
       "      <td>Transformers, Power Distribution (Incl. Fluid ...</td>\n",
       "      <td>2.0</td>\n",
       "      <td>EA</td>\n",
       "      <td>Each</td>\n",
       "      <td>1640.00</td>\n",
       "      <td>3280.00</td>\n",
       "      <td>TECHLINE INC</td>\n",
       "      <td>AUSTIN</td>\n",
       "      <td>US</td>\n",
       "      <td>Utilities</td>\n",
       "    </tr>\n",
       "    <tr>\n",
       "      <th>1</th>\n",
       "      <td>DOM1100MAX41029</td>\n",
       "      <td>forecasted jobs</td>\n",
       "      <td>TRANSFORMER, PAD-MOUNTED, 3 PHASE, FEED THRU S...</td>\n",
       "      <td>28586</td>\n",
       "      <td>Transformers, Power Distribution (Incl. Fluid ...</td>\n",
       "      <td>2.0</td>\n",
       "      <td>EA</td>\n",
       "      <td>Each</td>\n",
       "      <td>10036.62</td>\n",
       "      <td>20073.24</td>\n",
       "      <td>TECHLINE INC</td>\n",
       "      <td>AUSTIN</td>\n",
       "      <td>US</td>\n",
       "      <td>Utilities</td>\n",
       "    </tr>\n",
       "    <tr>\n",
       "      <th>2</th>\n",
       "      <td>CTM1100MAX41813</td>\n",
       "      <td>Replace Damaged Streetlight Poles</td>\n",
       "      <td>RFQAPC0709 prmax49528  Steel Pole TxDOT #ST40T...</td>\n",
       "      <td>2858058</td>\n",
       "      <td>POLES, STREETLIGHT, GALV. STEEL</td>\n",
       "      <td>2.0</td>\n",
       "      <td>EA</td>\n",
       "      <td>Each</td>\n",
       "      <td>1258.00</td>\n",
       "      <td>2516.00</td>\n",
       "      <td>KBS ELECTRICAL DISTRIBUTORS INC</td>\n",
       "      <td>AUSTIN</td>\n",
       "      <td>US</td>\n",
       "      <td>Oil &amp; Energy</td>\n",
       "    </tr>\n",
       "    <tr>\n",
       "      <th>3</th>\n",
       "      <td>PO220012060605050</td>\n",
       "      <td>material needed at gbsc</td>\n",
       "      <td>RC LN_____ QTY DEL_____ P/F_____ B/O______ DEL...</td>\n",
       "      <td>65933143001</td>\n",
       "      <td>COUPLING BRASS Y-BRANCH 1 1/2MIPT X 1IN X 1IN ...</td>\n",
       "      <td>20.0</td>\n",
       "      <td>EA</td>\n",
       "      <td>Each</td>\n",
       "      <td>44.00</td>\n",
       "      <td>880.00</td>\n",
       "      <td>ACT PIPE &amp; SUPPLY INC</td>\n",
       "      <td>PFLUGERVILLE</td>\n",
       "      <td>US</td>\n",
       "      <td>Wholesale</td>\n",
       "    </tr>\n",
       "    <tr>\n",
       "      <th>4</th>\n",
       "      <td>PO220011012502514</td>\n",
       "      <td>material needed at awgbsc</td>\n",
       "      <td>RC LN_____ QTY DEL_____ P/F_____ B/O_____ DEL ...</td>\n",
       "      <td>64050100004</td>\n",
       "      <td>CUP PAPER COATED HOT/COLD SAFETY DESIGN 6 OZ</td>\n",
       "      <td>3.0</td>\n",
       "      <td>CASE</td>\n",
       "      <td>Case</td>\n",
       "      <td>66.40</td>\n",
       "      <td>199.20</td>\n",
       "      <td>GULF COAST PAPER CO INC</td>\n",
       "      <td>AUSTIN</td>\n",
       "      <td>US</td>\n",
       "      <td>Business Supplies &amp; Equipment</td>\n",
       "    </tr>\n",
       "  </tbody>\n",
       "</table>\n",
       "</div>"
      ],
      "text/plain": [
       "           PO_NUMBER                          CONTRACT_NAME  \\\n",
       "0    DOM1100MAX43377  Critical materials Supply Arrangement   \n",
       "1    DOM1100MAX41029                        forecasted jobs   \n",
       "2    CTM1100MAX41813      Replace Damaged Streetlight Poles   \n",
       "3  PO220012060605050                material needed at gbsc   \n",
       "4  PO220011012502514              material needed at awgbsc   \n",
       "\n",
       "                                EXTENDED_DESCRIPTION COMMODITY_CODE  \\\n",
       "0  TRANSFORMER, DISTRIBUTION, SINGLE PHASE, POLE ...          28586   \n",
       "1  TRANSFORMER, PAD-MOUNTED, 3 PHASE, FEED THRU S...          28586   \n",
       "2  RFQAPC0709 prmax49528  Steel Pole TxDOT #ST40T...        2858058   \n",
       "3  RC LN_____ QTY DEL_____ P/F_____ B/O______ DEL...    65933143001   \n",
       "4  RC LN_____ QTY DEL_____ P/F_____ B/O_____ DEL ...    64050100004   \n",
       "\n",
       "                               COMMODITY_DESCRIPTION  QUANTITY  \\\n",
       "0  Transformers, Power Distribution (Incl. Fluid ...       2.0   \n",
       "1  Transformers, Power Distribution (Incl. Fluid ...       2.0   \n",
       "2                    POLES, STREETLIGHT, GALV. STEEL       2.0   \n",
       "3  COUPLING BRASS Y-BRANCH 1 1/2MIPT X 1IN X 1IN ...      20.0   \n",
       "4       CUP PAPER COATED HOT/COLD SAFETY DESIGN 6 OZ       3.0   \n",
       "\n",
       "  UNIT_OF_MEASURE UNIT_OF_MEAS_DESC  UNIT_PRICE  TOTAL_PRICE  \\\n",
       "0              EA              Each     1640.00      3280.00   \n",
       "1              EA              Each    10036.62     20073.24   \n",
       "2              EA              Each     1258.00      2516.00   \n",
       "3              EA              Each       44.00       880.00   \n",
       "4            CASE              Case       66.40       199.20   \n",
       "\n",
       "                       VENDOR_NAME   VENDOR_CITY VENDOR_COUNTRY  \\\n",
       "0                     TECHLINE INC        AUSTIN             US   \n",
       "1                     TECHLINE INC        AUSTIN             US   \n",
       "2  KBS ELECTRICAL DISTRIBUTORS INC        AUSTIN             US   \n",
       "3            ACT PIPE & SUPPLY INC  PFLUGERVILLE             US   \n",
       "4          GULF COAST PAPER CO INC        AUSTIN             US   \n",
       "\n",
       "               LINKEDIN_INDUSTRY  \n",
       "0                      Utilities  \n",
       "1                      Utilities  \n",
       "2                   Oil & Energy  \n",
       "3                      Wholesale  \n",
       "4  Business Supplies & Equipment  "
      ]
     },
     "execution_count": 4,
     "metadata": {},
     "output_type": "execute_result"
    }
   ],
   "source": [
    "# Visualizing first few rows\n",
    "df.head()"
   ]
  },
  {
   "cell_type": "code",
   "execution_count": 5,
   "metadata": {},
   "outputs": [
    {
     "name": "stdout",
     "output_type": "stream",
     "text": [
      "<class 'pandas.core.frame.DataFrame'>\n",
      "RangeIndex: 76531 entries, 0 to 76530\n",
      "Data columns (total 14 columns):\n",
      "PO_NUMBER                76531 non-null object\n",
      "CONTRACT_NAME            76531 non-null object\n",
      "EXTENDED_DESCRIPTION     61535 non-null object\n",
      "COMMODITY_CODE           76531 non-null object\n",
      "COMMODITY_DESCRIPTION    76531 non-null object\n",
      "QUANTITY                 76531 non-null float64\n",
      "UNIT_OF_MEASURE          64727 non-null object\n",
      "UNIT_OF_MEAS_DESC        64727 non-null object\n",
      "UNIT_PRICE               76531 non-null float64\n",
      "TOTAL_PRICE              76531 non-null float64\n",
      "VENDOR_NAME              76531 non-null object\n",
      "VENDOR_CITY              76024 non-null object\n",
      "VENDOR_COUNTRY           76024 non-null object\n",
      "LINKEDIN_INDUSTRY        76531 non-null object\n",
      "dtypes: float64(3), object(11)\n",
      "memory usage: 8.2+ MB\n"
     ]
    }
   ],
   "source": [
    "# Extended description, unit of measure and unit of description have most null values\n",
    "df.info()"
   ]
  },
  {
   "cell_type": "code",
   "execution_count": 62,
   "metadata": {},
   "outputs": [
    {
     "data": {
      "text/html": [
       "<div>\n",
       "<style scoped>\n",
       "    .dataframe tbody tr th:only-of-type {\n",
       "        vertical-align: middle;\n",
       "    }\n",
       "\n",
       "    .dataframe tbody tr th {\n",
       "        vertical-align: top;\n",
       "    }\n",
       "\n",
       "    .dataframe thead th {\n",
       "        text-align: right;\n",
       "    }\n",
       "</style>\n",
       "<table border=\"1\" class=\"dataframe\">\n",
       "  <thead>\n",
       "    <tr style=\"text-align: right;\">\n",
       "      <th></th>\n",
       "      <th>QUANTITY</th>\n",
       "      <th>UNIT_PRICE</th>\n",
       "      <th>TOTAL_PRICE</th>\n",
       "    </tr>\n",
       "  </thead>\n",
       "  <tbody>\n",
       "    <tr>\n",
       "      <th>count</th>\n",
       "      <td>7.601400e+04</td>\n",
       "      <td>7.601400e+04</td>\n",
       "      <td>7.601400e+04</td>\n",
       "    </tr>\n",
       "    <tr>\n",
       "      <th>mean</th>\n",
       "      <td>3.903047e+02</td>\n",
       "      <td>6.730788e+02</td>\n",
       "      <td>5.917401e+03</td>\n",
       "    </tr>\n",
       "    <tr>\n",
       "      <th>std</th>\n",
       "      <td>7.915961e+03</td>\n",
       "      <td>1.849558e+04</td>\n",
       "      <td>4.497635e+04</td>\n",
       "    </tr>\n",
       "    <tr>\n",
       "      <th>min</th>\n",
       "      <td>0.000000e+00</td>\n",
       "      <td>0.000000e+00</td>\n",
       "      <td>4.000000e-02</td>\n",
       "    </tr>\n",
       "    <tr>\n",
       "      <th>25%</th>\n",
       "      <td>2.000000e+00</td>\n",
       "      <td>1.310000e+00</td>\n",
       "      <td>1.323000e+02</td>\n",
       "    </tr>\n",
       "    <tr>\n",
       "      <th>50%</th>\n",
       "      <td>1.200000e+01</td>\n",
       "      <td>1.198000e+01</td>\n",
       "      <td>4.690000e+02</td>\n",
       "    </tr>\n",
       "    <tr>\n",
       "      <th>75%</th>\n",
       "      <td>6.000000e+01</td>\n",
       "      <td>5.600000e+01</td>\n",
       "      <td>2.493778e+03</td>\n",
       "    </tr>\n",
       "    <tr>\n",
       "      <th>max</th>\n",
       "      <td>1.912107e+06</td>\n",
       "      <td>3.157355e+06</td>\n",
       "      <td>3.384960e+06</td>\n",
       "    </tr>\n",
       "  </tbody>\n",
       "</table>\n",
       "</div>"
      ],
      "text/plain": [
       "           QUANTITY    UNIT_PRICE   TOTAL_PRICE\n",
       "count  7.601400e+04  7.601400e+04  7.601400e+04\n",
       "mean   3.903047e+02  6.730788e+02  5.917401e+03\n",
       "std    7.915961e+03  1.849558e+04  4.497635e+04\n",
       "min    0.000000e+00  0.000000e+00  4.000000e-02\n",
       "25%    2.000000e+00  1.310000e+00  1.323000e+02\n",
       "50%    1.200000e+01  1.198000e+01  4.690000e+02\n",
       "75%    6.000000e+01  5.600000e+01  2.493778e+03\n",
       "max    1.912107e+06  3.157355e+06  3.384960e+06"
      ]
     },
     "execution_count": 62,
     "metadata": {},
     "output_type": "execute_result"
    }
   ],
   "source": [
    "# There is quite a lot of variability in these values\n",
    "df.describe()"
   ]
  },
  {
   "cell_type": "code",
   "execution_count": 7,
   "metadata": {},
   "outputs": [
    {
     "data": {
      "text/plain": [
       "US     76014\n",
       "NaN      507\n",
       "CA        10\n",
       "Name: VENDOR_COUNTRY, dtype: int64"
      ]
     },
     "execution_count": 7,
     "metadata": {},
     "output_type": "execute_result"
    }
   ],
   "source": [
    "# Most entries are US\n",
    "df['VENDOR_COUNTRY'].value_counts(dropna=False)"
   ]
  },
  {
   "cell_type": "code",
   "execution_count": 10,
   "metadata": {},
   "outputs": [
    {
     "data": {
      "text/plain": [
       "0.9932445675608577"
      ]
     },
     "execution_count": 10,
     "metadata": {},
     "output_type": "execute_result"
    }
   ],
   "source": [
    "# 99 % of values are US\n",
    "mean(df['VENDOR_COUNTRY']=='US')"
   ]
  },
  {
   "cell_type": "code",
   "execution_count": 8,
   "metadata": {},
   "outputs": [
    {
     "data": {
      "text/plain": [
       "COMMODITY_CODE\n",
       "00505          1\n",
       "5951017        1\n",
       "59515          1\n",
       "59540          1\n",
       "5956072        1\n",
       "              ..\n",
       "20015100002    4\n",
       "48586100002    4\n",
       "34532690005    4\n",
       "20015311001    4\n",
       "20015311002    4\n",
       "Name: COMMODITY_DESCRIPTION, Length: 4021, dtype: int64"
      ]
     },
     "execution_count": 8,
     "metadata": {},
     "output_type": "execute_result"
    }
   ],
   "source": [
    "# Not all commodity codes map onto the same description\n",
    "df.groupby('COMMODITY_CODE').nunique()['COMMODITY_DESCRIPTION'].sort_values()"
   ]
  },
  {
   "cell_type": "code",
   "execution_count": 9,
   "metadata": {},
   "outputs": [
    {
     "data": {
      "text/plain": [
       "Business Supplies & Equipment    23784\n",
       "Utilities                        21400\n",
       "Construction                     11140\n",
       "Wholesale                        10688\n",
       "Oil & Energy                      9519\n",
       "Name: LINKEDIN_INDUSTRY, dtype: int64"
      ]
     },
     "execution_count": 9,
     "metadata": {},
     "output_type": "execute_result"
    }
   ],
   "source": [
    "# There seems to be an open spread in the data\n",
    "df['LINKEDIN_INDUSTRY'].value_counts()"
   ]
  },
  {
   "cell_type": "code",
   "execution_count": 11,
   "metadata": {},
   "outputs": [
    {
     "data": {
      "text/plain": [
       "AUSTIN          49754\n",
       "Round Rock       4020\n",
       "HOUSTON          2929\n",
       "Austin           2614\n",
       "GEORGETOWN       2262\n",
       "                ...  \n",
       "ROCKDALE            1\n",
       "LA HABRA            1\n",
       "MARBLE FALLS        1\n",
       "Sweet Valley        1\n",
       "Toronto             1\n",
       "Name: VENDOR_CITY, Length: 231, dtype: int64"
      ]
     },
     "execution_count": 11,
     "metadata": {},
     "output_type": "execute_result"
    }
   ],
   "source": [
    "# There are lots of cities, with most values in the first 10 cities\n",
    "df['VENDOR_CITY'].value_counts()"
   ]
  },
  {
   "cell_type": "code",
   "execution_count": 12,
   "metadata": {},
   "outputs": [
    {
     "data": {
      "image/png": "[encoded data removed]",
      "text/plain": [
       "<Figure size 216x216 with 1 Axes>"
      ]
     },
     "metadata": {
      "needs_background": "light"
     },
     "output_type": "display_data"
    },
    {
     "data": {
      "image/png": "[encoded data removed]",
      "text/plain": [
       "<Figure size 216x216 with 1 Axes>"
      ]
     },
     "metadata": {
      "needs_background": "light"
     },
     "output_type": "display_data"
    },
    {
     "data": {
      "image/png": "[encoded data removed]",
      "text/plain": [
       "<Figure size 216x216 with 1 Axes>"
      ]
     },
     "metadata": {
      "needs_background": "light"
     },
     "output_type": "display_data"
    }
   ],
   "source": [
    "# Total price may be a reliable predictor of industry, but has a lot of variability within industry categories\n",
    "cols = ['QUANTITY','TOTAL_PRICE','UNIT_PRICE']\n",
    "for i in cols:\n",
    "    plt.figure(figsize=(3,3))\n",
    "    sns.barplot(x=df[i],y=df['LINKEDIN_INDUSTRY'])\n",
    "    plt.show()"
   ]
  },
  {
   "cell_type": "code",
   "execution_count": 13,
   "metadata": {
    "scrolled": true
   },
   "outputs": [
    {
     "data": {
      "text/plain": [
       "EA      43821\n",
       "FT       5060\n",
       "TON      4137\n",
       "CASE     2611\n",
       "PR       1864\n",
       "GAL      1734\n",
       "PK       1263\n",
       "RL        797\n",
       "BOX       794\n",
       "PKG       501\n",
       "KIT       372\n",
       "DOL       258\n",
       "CAN       213\n",
       "MFT       210\n",
       "LOT       189\n",
       "CUYD      131\n",
       "SET       129\n",
       "LB        110\n",
       "DZ        106\n",
       "BAG       105\n",
       "DRUM       79\n",
       "COIL       62\n",
       "LNFT       32\n",
       "CYL        32\n",
       "CART       25\n",
       "PAIL       21\n",
       "BTL        18\n",
       "SHT        15\n",
       "HOUR       13\n",
       "QT          9\n",
       "SQFT        2\n",
       "YD          2\n",
       "BNDL        2\n",
       "M           2\n",
       "BALE        2\n",
       "L           1\n",
       "BULK        1\n",
       "REEL        1\n",
       "PT          1\n",
       "BK          1\n",
       "DEL         1\n",
       "Name: UNIT_OF_MEASURE, dtype: int64"
      ]
     },
     "execution_count": 13,
     "metadata": {},
     "output_type": "execute_result"
    }
   ],
   "source": [
    "# There is large variability in units of measure\n",
    "df['UNIT_OF_MEASURE'].value_counts()"
   ]
  },
  {
   "cell_type": "markdown",
   "metadata": {},
   "source": [
    "# Training model"
   ]
  },
  {
   "cell_type": "code",
   "execution_count": 32,
   "metadata": {},
   "outputs": [],
   "source": [
    "# Using US only, dropping nulls and Canada\n",
    "df = df[df['VENDOR_COUNTRY']=='US']"
   ]
  },
  {
   "cell_type": "markdown",
   "metadata": {},
   "source": [
    "## Training based on commodity_description"
   ]
  },
  {
   "cell_type": "markdown",
   "metadata": {},
   "source": [
    "### modeling with tfidf"
   ]
  },
  {
   "cell_type": "code",
   "execution_count": 49,
   "metadata": {},
   "outputs": [],
   "source": [
    "# Separating prediction labels from input dataset\n",
    "y = df['LINKEDIN_INDUSTRY']"
   ]
  },
  {
   "cell_type": "code",
   "execution_count": 50,
   "metadata": {},
   "outputs": [],
   "source": [
    "tokenizer=LemmaTokenizer()\n",
    "token_stop = tokenizer(' '.join(stop_words))\n",
    "vectorizer = TfidfVectorizer(tokenizer=tokenizer,stop_words=token_stop,ngram_range=(1,1))\n",
    "X_11 = vectorizer.fit_transform(df['COMMODITY_DESCRIPTION'].str.lower())\n",
    "X_11 = pd.DataFrame(X_11.toarray(),columns=vectorizer.get_feature_names())"
   ]
  },
  {
   "cell_type": "code",
   "execution_count": 35,
   "metadata": {},
   "outputs": [],
   "source": [
    "X_train, X_test, y_train, y_test = train_test_split(X_11, y, test_size=0.33, random_state=42)"
   ]
  },
  {
   "cell_type": "code",
   "execution_count": 36,
   "metadata": {},
   "outputs": [
    {
     "data": {
      "text/plain": [
       "0.890258988002906"
      ]
     },
     "execution_count": 36,
     "metadata": {},
     "output_type": "execute_result"
    }
   ],
   "source": [
    "## with sag solver\n",
    "model = LogisticRegression(multi_class='multinomial', solver='sag')\n",
    "model.fit(X_train,y_train)\n",
    "y_pred = model.predict(X_train)\n",
    "accuracy_score(y_train,y_pred)"
   ]
  },
  {
   "cell_type": "code",
   "execution_count": 38,
   "metadata": {
    "scrolled": true
   },
   "outputs": [
    {
     "data": {
      "text/html": [
       "<div>\n",
       "<style scoped>\n",
       "    .dataframe tbody tr th:only-of-type {\n",
       "        vertical-align: middle;\n",
       "    }\n",
       "\n",
       "    .dataframe tbody tr th {\n",
       "        vertical-align: top;\n",
       "    }\n",
       "\n",
       "    .dataframe thead th {\n",
       "        text-align: right;\n",
       "    }\n",
       "</style>\n",
       "<table border=\"1\" class=\"dataframe\">\n",
       "  <thead>\n",
       "    <tr style=\"text-align: right;\">\n",
       "      <th></th>\n",
       "      <th>Accuracy</th>\n",
       "    </tr>\n",
       "    <tr>\n",
       "      <th>Actual</th>\n",
       "      <th></th>\n",
       "    </tr>\n",
       "  </thead>\n",
       "  <tbody>\n",
       "    <tr>\n",
       "      <th>Business Supplies &amp; Equipment</th>\n",
       "      <td>0.951188</td>\n",
       "    </tr>\n",
       "    <tr>\n",
       "      <th>Construction</th>\n",
       "      <td>0.933900</td>\n",
       "    </tr>\n",
       "    <tr>\n",
       "      <th>Oil &amp; Energy</th>\n",
       "      <td>0.637942</td>\n",
       "    </tr>\n",
       "    <tr>\n",
       "      <th>Utilities</th>\n",
       "      <td>0.914078</td>\n",
       "    </tr>\n",
       "    <tr>\n",
       "      <th>Wholesale</th>\n",
       "      <td>0.812912</td>\n",
       "    </tr>\n",
       "  </tbody>\n",
       "</table>\n",
       "</div>"
      ],
      "text/plain": [
       "                               Accuracy\n",
       "Actual                                 \n",
       "Business Supplies & Equipment  0.951188\n",
       "Construction                   0.933900\n",
       "Oil & Energy                   0.637942\n",
       "Utilities                      0.914078\n",
       "Wholesale                      0.812912"
      ]
     },
     "execution_count": 38,
     "metadata": {},
     "output_type": "execute_result"
    }
   ],
   "source": [
    "y_pred_test = model.predict(X_test)\n",
    "print(accuracy_score(y_test,y_pred_test))\n",
    "temp = pd.DataFrame(list(zip(y_test,y_pred_test)),columns = ['Actual','Predicted'])\n",
    "temp['Accuracy'] = 1 * (temp['Actual']==temp['Predicted'])\n",
    "temp.groupby('Actual').agg({'Accuracy':'sum','Predicted':'count'})\n",
    "temp.groupby('Actual').mean()"
   ]
  },
  {
   "cell_type": "code",
   "execution_count": 63,
   "metadata": {},
   "outputs": [],
   "source": [
    "cv = KFold(n_splits=5, random_state=1, shuffle=True)"
   ]
  },
  {
   "cell_type": "code",
   "execution_count": null,
   "metadata": {},
   "outputs": [],
   "source": [
    "model = LogisticRegression(multi_class='multinomial', solver='sag')\n",
    "scores = cross_val_score(model, X_11, y, scoring='accuracy', cv=cv, n_jobs=-1)\n",
    "# report performance\n",
    "print('Accuracy: %.3f (%.3f)' % (mean(scores), std(scores)))"
   ]
  },
  {
   "cell_type": "markdown",
   "metadata": {
    "heading_collapsed": true
   },
   "source": [
    "### Separating oil and energy"
   ]
  },
  {
   "cell_type": "code",
   "execution_count": 43,
   "metadata": {
    "hidden": true
   },
   "outputs": [],
   "source": [
    "# Separating prediction labels from input dataset\n",
    "no_oil = df[df['LINKEDIN_INDUSTRY']!='Oil & Energy']\n",
    "y_no_oil = no_oil['LINKEDIN_INDUSTRY']"
   ]
  },
  {
   "cell_type": "code",
   "execution_count": 44,
   "metadata": {
    "hidden": true
   },
   "outputs": [],
   "source": [
    "tokenizer=LemmaTokenizer()\n",
    "token_stop = tokenizer(' '.join(stop_words))\n",
    "vectorizer = TfidfVectorizer(tokenizer=tokenizer,stop_words=token_stop,ngram_range=(1,1))\n",
    "X_11_no_oil = vectorizer.fit_transform(no_oil['COMMODITY_DESCRIPTION'].str.lower())\n",
    "X_11_no_oil = pd.DataFrame(X_11_no_oil.toarray(),columns=vectorizer.get_feature_names())"
   ]
  },
  {
   "cell_type": "code",
   "execution_count": 45,
   "metadata": {
    "hidden": true
   },
   "outputs": [
    {
     "name": "stderr",
     "output_type": "stream",
     "text": [
      "/Users/mahamfaisalkhan/anaconda3/envs/wbg/lib/python3.8/site-packages/sklearn/linear_model/_logistic.py:938: ConvergenceWarning: lbfgs failed to converge (status=1):\n",
      "STOP: TOTAL NO. of ITERATIONS REACHED LIMIT.\n",
      "\n",
      "Increase the number of iterations (max_iter) or scale the data as shown in:\n",
      "    https://scikit-learn.org/stable/modules/preprocessing.html\n",
      "Please also refer to the documentation for alternative solver options:\n",
      "    https://scikit-learn.org/stable/modules/linear_model.html#logistic-regression\n",
      "  n_iter_i = _check_optimize_result(\n"
     ]
    },
    {
     "data": {
      "text/plain": [
       "0.9389309536686498"
      ]
     },
     "execution_count": 45,
     "metadata": {},
     "output_type": "execute_result"
    }
   ],
   "source": [
    "model = LogisticRegression(multi_class='multinomial', solver='lbfgs') #'newton-cg','sag','saga'\n",
    "model.fit(X_11_no_oil,y_no_oil)\n",
    "y_pred = model.predict(X_11_no_oil)\n",
    "accuracy_score(y_no_oil,y_pred)"
   ]
  },
  {
   "cell_type": "code",
   "execution_count": 46,
   "metadata": {
    "hidden": true
   },
   "outputs": [],
   "source": [
    "X_train, X_test, y_train, y_test = train_test_split(X_11_no_oil, y_no_oil, test_size=0.33, random_state=42)"
   ]
  },
  {
   "cell_type": "code",
   "execution_count": 47,
   "metadata": {
    "hidden": true
   },
   "outputs": [
    {
     "data": {
      "text/plain": [
       "0.939076619503554"
      ]
     },
     "execution_count": 47,
     "metadata": {},
     "output_type": "execute_result"
    }
   ],
   "source": [
    "model = LogisticRegression(multi_class='multinomial', solver='sag')\n",
    "model.fit(X_train,y_train)\n",
    "y_pred = model.predict(X_train)\n",
    "accuracy_score(y_train,y_pred)"
   ]
  },
  {
   "cell_type": "code",
   "execution_count": 48,
   "metadata": {
    "hidden": true
   },
   "outputs": [
    {
     "data": {
      "text/plain": [
       "0.9302590249009879"
      ]
     },
     "execution_count": 48,
     "metadata": {},
     "output_type": "execute_result"
    }
   ],
   "source": [
    "y_pred_test = model.predict(X_test)\n",
    "accuracy_score(y_test,y_pred_test)"
   ]
  },
  {
   "cell_type": "code",
   "execution_count": 49,
   "metadata": {
    "hidden": true
   },
   "outputs": [
    {
     "data": {
      "text/html": [
       "<div>\n",
       "<style scoped>\n",
       "    .dataframe tbody tr th:only-of-type {\n",
       "        vertical-align: middle;\n",
       "    }\n",
       "\n",
       "    .dataframe tbody tr th {\n",
       "        vertical-align: top;\n",
       "    }\n",
       "\n",
       "    .dataframe thead th {\n",
       "        text-align: right;\n",
       "    }\n",
       "</style>\n",
       "<table border=\"1\" class=\"dataframe\">\n",
       "  <thead>\n",
       "    <tr style=\"text-align: right;\">\n",
       "      <th></th>\n",
       "      <th>Accuracy</th>\n",
       "    </tr>\n",
       "    <tr>\n",
       "      <th>Actual</th>\n",
       "      <th></th>\n",
       "    </tr>\n",
       "  </thead>\n",
       "  <tbody>\n",
       "    <tr>\n",
       "      <th>Business Supplies &amp; Equipment</th>\n",
       "      <td>0.954091</td>\n",
       "    </tr>\n",
       "    <tr>\n",
       "      <th>Construction</th>\n",
       "      <td>0.936833</td>\n",
       "    </tr>\n",
       "    <tr>\n",
       "      <th>Utilities</th>\n",
       "      <td>0.955975</td>\n",
       "    </tr>\n",
       "    <tr>\n",
       "      <th>Wholesale</th>\n",
       "      <td>0.822487</td>\n",
       "    </tr>\n",
       "  </tbody>\n",
       "</table>\n",
       "</div>"
      ],
      "text/plain": [
       "                               Accuracy\n",
       "Actual                                 \n",
       "Business Supplies & Equipment  0.954091\n",
       "Construction                   0.936833\n",
       "Utilities                      0.955975\n",
       "Wholesale                      0.822487"
      ]
     },
     "execution_count": 49,
     "metadata": {},
     "output_type": "execute_result"
    }
   ],
   "source": [
    "temp = pd.DataFrame(list(zip(y_test,y_pred_test)),columns = ['Actual','Predicted'])\n",
    "temp['Accuracy'] = 1 * (temp['Actual']==temp['Predicted'])\n",
    "temp.groupby('Actual').agg({'Accuracy':'sum','Predicted':'count'})\n",
    "temp.groupby('Actual').mean()"
   ]
  },
  {
   "cell_type": "markdown",
   "metadata": {},
   "source": [
    "### Understanding oil and energy features"
   ]
  },
  {
   "cell_type": "code",
   "execution_count": null,
   "metadata": {},
   "outputs": [],
   "source": [
    "y=df['LINKEDIN_INDUSTRY']"
   ]
  },
  {
   "cell_type": "code",
   "execution_count": 51,
   "metadata": {},
   "outputs": [],
   "source": [
    "industry = X_11.copy()\n",
    "industry['industry'] = y.values"
   ]
  },
  {
   "cell_type": "code",
   "execution_count": 53,
   "metadata": {
    "scrolled": false
   },
   "outputs": [
    {
     "name": "stdout",
     "output_type": "stream",
     "text": [
      "Utilities\n",
      "anchor           652.100347\n",
      "arm              728.221477\n",
      "bolt             760.178174\n",
      "brace            767.994728\n",
      "cable           1500.288453\n",
      "conduit          500.497100\n",
      "distribution     812.489445\n",
      "electrical       523.468798\n",
      "embedded         420.220176\n",
      "fill             812.270596\n",
      "fluid            812.201587\n",
      "hardware         679.092131\n",
      "incl             811.522751\n",
      "line             900.373748\n",
      "pole            1624.963433\n",
      "power           1286.881550\n",
      "steel           1124.292968\n",
      "transformer      872.222946\n",
      "type            1565.458473\n",
      "xlpe             661.977389\n",
      "dtype: float64\n",
      "\n",
      "Oil & Energy\n",
      "asphalt         1324.477005\n",
      "cable            202.821364\n",
      "conduit          189.168327\n",
      "distribution     322.123160\n",
      "e10              258.786416\n",
      "e85              253.923046\n",
      "emulsion        1334.726925\n",
      "ethanol          457.272035\n",
      "fill             322.150529\n",
      "fluid            322.123160\n",
      "fuel             381.346563\n",
      "fuse             294.588660\n",
      "incl             321.741046\n",
      "line             185.924784\n",
      "lubricant        209.261515\n",
      "pole             196.491835\n",
      "power            399.064551\n",
      "steel            186.769997\n",
      "transformer      380.939278\n",
      "type             600.285735\n",
      "dtype: float64\n",
      "\n",
      "Wholesale\n",
      "1             180.080961\n",
      "2             158.400097\n",
      "3/4           163.483528\n",
      "6             188.167192\n",
      "accessory     153.481223\n",
      "audio         360.725725\n",
      "brass         399.188374\n",
      "cable         288.909525\n",
      "coaxial       345.131295\n",
      "coupling      207.236583\n",
      "electronic    355.572409\n",
      "hook-u        345.131295\n",
      "part          295.252156\n",
      "pipe          241.081466\n",
      "pvc           319.816539\n",
      "sewer         148.871613\n",
      "sound         149.399180\n",
      "supply        159.179608\n",
      "wire          314.098377\n",
      "x             315.414930\n",
      "dtype: float64\n",
      "\n",
      "Business Supplies & Equipment\n",
      "accessory      265.819417\n",
      "air            567.945738\n",
      "beverage       286.267067\n",
      "brass          260.855679\n",
      "building       514.643899\n",
      "general       1387.716432\n",
      "glove          363.921403\n",
      "impact         536.109208\n",
      "janitorial    1337.507867\n",
      "line          1106.618648\n",
      "oz             266.436045\n",
      "paper          315.340226\n",
      "powered        568.187997\n",
      "road           526.348006\n",
      "safety         348.706987\n",
      "size           350.037575\n",
      "supply        1347.710613\n",
      "toilet         274.295339\n",
      "tool           611.515346\n",
      "x              514.278968\n",
      "dtype: float64\n",
      "\n",
      "Construction\n",
      "accessori      138.324964\n",
      "accordance    1670.798890\n",
      "asphaltic     1671.207058\n",
      "chlorine       298.364084\n",
      "concrete      2028.887528\n",
      "disposable     121.789553\n",
      "glove          119.891192\n",
      "hot           1622.191018\n",
      "irrigation     154.477304\n",
      "liquefied      301.255496\n",
      "mix           1646.270952\n",
      "nameplate      626.325663\n",
      "nitrile        137.714924\n",
      "nonsterile     121.334725\n",
      "paint          147.544362\n",
      "part           220.487348\n",
      "plastic        579.936648\n",
      "ready-mix      541.779202\n",
      "supply         160.647850\n",
      "system         186.330907\n",
      "dtype: float64\n",
      "\n"
     ]
    }
   ],
   "source": [
    "for i in y.unique():\n",
    "    temp = industry[industry['industry']==i][industry.columns[:-1]].sum().sort_values(ascending=False)\n",
    "    print(i)\n",
    "    print(temp.head(20).sort_index())\n",
    "    print()"
   ]
  },
  {
   "cell_type": "markdown",
   "metadata": {},
   "source": [
    "### modeling without certain words"
   ]
  },
  {
   "cell_type": "code",
   "execution_count": 57,
   "metadata": {},
   "outputs": [],
   "source": [
    "cols = X_11.columns[~X_11.columns.isin(['cable','conduit','distribution','fill','fliud','pole','transformer','power'])]\n",
    "X_ex = X_11[cols]"
   ]
  },
  {
   "cell_type": "code",
   "execution_count": 58,
   "metadata": {},
   "outputs": [
    {
     "data": {
      "text/plain": [
       "0.8901518141395006"
      ]
     },
     "execution_count": 58,
     "metadata": {},
     "output_type": "execute_result"
    }
   ],
   "source": [
    "## with sag solver\n",
    "model = LogisticRegression(multi_class='multinomial', solver='sag')\n",
    "model.fit(X_ex,y)\n",
    "y_pred = model.predict(X_ex)\n",
    "accuracy_score(y,y_pred)"
   ]
  },
  {
   "cell_type": "code",
   "execution_count": 61,
   "metadata": {},
   "outputs": [
    {
     "data": {
      "text/html": [
       "<div>\n",
       "<style scoped>\n",
       "    .dataframe tbody tr th:only-of-type {\n",
       "        vertical-align: middle;\n",
       "    }\n",
       "\n",
       "    .dataframe tbody tr th {\n",
       "        vertical-align: top;\n",
       "    }\n",
       "\n",
       "    .dataframe thead th {\n",
       "        text-align: right;\n",
       "    }\n",
       "</style>\n",
       "<table border=\"1\" class=\"dataframe\">\n",
       "  <thead>\n",
       "    <tr style=\"text-align: right;\">\n",
       "      <th></th>\n",
       "      <th>Accuracy</th>\n",
       "    </tr>\n",
       "    <tr>\n",
       "      <th>Actual</th>\n",
       "      <th></th>\n",
       "    </tr>\n",
       "  </thead>\n",
       "  <tbody>\n",
       "    <tr>\n",
       "      <th>Business Supplies &amp; Equipment</th>\n",
       "      <td>0.948200</td>\n",
       "    </tr>\n",
       "    <tr>\n",
       "      <th>Construction</th>\n",
       "      <td>0.955280</td>\n",
       "    </tr>\n",
       "    <tr>\n",
       "      <th>Oil &amp; Energy</th>\n",
       "      <td>0.848917</td>\n",
       "    </tr>\n",
       "    <tr>\n",
       "      <th>Utilities</th>\n",
       "      <td>0.845998</td>\n",
       "    </tr>\n",
       "    <tr>\n",
       "      <th>Wholesale</th>\n",
       "      <td>0.820122</td>\n",
       "    </tr>\n",
       "  </tbody>\n",
       "</table>\n",
       "</div>"
      ],
      "text/plain": [
       "                               Accuracy\n",
       "Actual                                 \n",
       "Business Supplies & Equipment  0.948200\n",
       "Construction                   0.955280\n",
       "Oil & Energy                   0.848917\n",
       "Utilities                      0.845998\n",
       "Wholesale                      0.820122"
      ]
     },
     "execution_count": 61,
     "metadata": {},
     "output_type": "execute_result"
    }
   ],
   "source": [
    "temp = pd.DataFrame(list(zip(y_pred,y)),columns = ['Actual','Predicted'])\n",
    "temp['Accuracy'] = 1 * (temp['Actual']==temp['Predicted'])\n",
    "temp.groupby('Actual').agg({'Accuracy':'sum','Predicted':'count'})\n",
    "temp.groupby('Actual').mean()"
   ]
  },
  {
   "cell_type": "code",
   "execution_count": null,
   "metadata": {},
   "outputs": [],
   "source": []
  }
 ],
 "metadata": {
  "kernelspec": {
   "display_name": "wbg_",
   "language": "python",
   "name": "wbg_"
  },
  "language_info": {
   "codemirror_mode": {
    "name": "ipython",
    "version": 3
   },
   "file_extension": ".py",
   "mimetype": "text/x-python",
   "name": "python",
   "nbconvert_exporter": "python",
   "pygments_lexer": "ipython3",
   "version": "3.8.1"
  },
  "toc": {
   "base_numbering": 1,
   "nav_menu": {},
   "number_sections": true,
   "sideBar": true,
   "skip_h1_title": false,
   "title_cell": "Table of Contents",
   "title_sidebar": "Contents",
   "toc_cell": false,
   "toc_position": {},
   "toc_section_display": true,
   "toc_window_display": false
  }
 },
 "nbformat": 4,
 "nbformat_minor": 4
}
